{
 "cells": [
  {
   "cell_type": "markdown",
   "id": "9302f068",
   "metadata": {},
   "source": [
    "## Dataset 1"
   ]
  },
  {
   "cell_type": "markdown",
   "id": "79dc7b9f",
   "metadata": {},
   "source": [
    "### Importing the Librabries"
   ]
  },
  {
   "cell_type": "code",
   "execution_count": 1,
   "id": "3c318daf",
   "metadata": {},
   "outputs": [],
   "source": [
    "import numpy as np\n",
    "import matplotlib.pyplot as plt\n",
    "import pandas as pd"
   ]
  },
  {
   "cell_type": "markdown",
   "id": "2d6ec8f2",
   "metadata": {},
   "source": [
    "### Importing the Dataset"
   ]
  },
  {
   "cell_type": "code",
   "execution_count": 2,
   "id": "ea469803",
   "metadata": {},
   "outputs": [],
   "source": [
    "dataset = pd.read_csv('Dataset1.csv')\n",
    "dataset = dataset.fillna(0)\n",
    "x = dataset.iloc[:, 0].values     \n",
    "y = dataset.iloc[:, -1].values"
   ]
  },
  {
   "cell_type": "code",
   "execution_count": 3,
   "id": "8815055f",
   "metadata": {},
   "outputs": [
    {
     "data": {
      "text/html": [
       "<div>\n",
       "<style scoped>\n",
       "    .dataframe tbody tr th:only-of-type {\n",
       "        vertical-align: middle;\n",
       "    }\n",
       "\n",
       "    .dataframe tbody tr th {\n",
       "        vertical-align: top;\n",
       "    }\n",
       "\n",
       "    .dataframe thead th {\n",
       "        text-align: right;\n",
       "    }\n",
       "</style>\n",
       "<table border=\"1\" class=\"dataframe\">\n",
       "  <thead>\n",
       "    <tr style=\"text-align: right;\">\n",
       "      <th></th>\n",
       "      <th>Year</th>\n",
       "      <th>Total</th>\n",
       "      <th>Gas Fuel</th>\n",
       "      <th>Liquid Fuel</th>\n",
       "      <th>Solid Fuel</th>\n",
       "      <th>Cement</th>\n",
       "      <th>Gas Flaring</th>\n",
       "      <th>Per Capita</th>\n",
       "    </tr>\n",
       "  </thead>\n",
       "  <tbody>\n",
       "    <tr>\n",
       "      <th>0</th>\n",
       "      <td>1751</td>\n",
       "      <td>3</td>\n",
       "      <td>0</td>\n",
       "      <td>0</td>\n",
       "      <td>3</td>\n",
       "      <td>0</td>\n",
       "      <td>0</td>\n",
       "      <td>0.00</td>\n",
       "    </tr>\n",
       "    <tr>\n",
       "      <th>1</th>\n",
       "      <td>1752</td>\n",
       "      <td>3</td>\n",
       "      <td>0</td>\n",
       "      <td>0</td>\n",
       "      <td>3</td>\n",
       "      <td>0</td>\n",
       "      <td>0</td>\n",
       "      <td>0.00</td>\n",
       "    </tr>\n",
       "    <tr>\n",
       "      <th>2</th>\n",
       "      <td>1753</td>\n",
       "      <td>3</td>\n",
       "      <td>0</td>\n",
       "      <td>0</td>\n",
       "      <td>3</td>\n",
       "      <td>0</td>\n",
       "      <td>0</td>\n",
       "      <td>0.00</td>\n",
       "    </tr>\n",
       "    <tr>\n",
       "      <th>3</th>\n",
       "      <td>1754</td>\n",
       "      <td>3</td>\n",
       "      <td>0</td>\n",
       "      <td>0</td>\n",
       "      <td>3</td>\n",
       "      <td>0</td>\n",
       "      <td>0</td>\n",
       "      <td>0.00</td>\n",
       "    </tr>\n",
       "    <tr>\n",
       "      <th>4</th>\n",
       "      <td>1755</td>\n",
       "      <td>3</td>\n",
       "      <td>0</td>\n",
       "      <td>0</td>\n",
       "      <td>3</td>\n",
       "      <td>0</td>\n",
       "      <td>0</td>\n",
       "      <td>0.00</td>\n",
       "    </tr>\n",
       "    <tr>\n",
       "      <th>...</th>\n",
       "      <td>...</td>\n",
       "      <td>...</td>\n",
       "      <td>...</td>\n",
       "      <td>...</td>\n",
       "      <td>...</td>\n",
       "      <td>...</td>\n",
       "      <td>...</td>\n",
       "      <td>...</td>\n",
       "    </tr>\n",
       "    <tr>\n",
       "      <th>255</th>\n",
       "      <td>2006</td>\n",
       "      <td>8370</td>\n",
       "      <td>1525</td>\n",
       "      <td>3089</td>\n",
       "      <td>3339</td>\n",
       "      <td>356</td>\n",
       "      <td>61</td>\n",
       "      <td>1.27</td>\n",
       "    </tr>\n",
       "    <tr>\n",
       "      <th>256</th>\n",
       "      <td>2007</td>\n",
       "      <td>8566</td>\n",
       "      <td>1572</td>\n",
       "      <td>3081</td>\n",
       "      <td>3464</td>\n",
       "      <td>382</td>\n",
       "      <td>68</td>\n",
       "      <td>1.28</td>\n",
       "    </tr>\n",
       "    <tr>\n",
       "      <th>257</th>\n",
       "      <td>2008</td>\n",
       "      <td>8783</td>\n",
       "      <td>1631</td>\n",
       "      <td>3122</td>\n",
       "      <td>3571</td>\n",
       "      <td>388</td>\n",
       "      <td>71</td>\n",
       "      <td>1.30</td>\n",
       "    </tr>\n",
       "    <tr>\n",
       "      <th>258</th>\n",
       "      <td>2009</td>\n",
       "      <td>8740</td>\n",
       "      <td>1585</td>\n",
       "      <td>3056</td>\n",
       "      <td>3620</td>\n",
       "      <td>413</td>\n",
       "      <td>66</td>\n",
       "      <td>1.28</td>\n",
       "    </tr>\n",
       "    <tr>\n",
       "      <th>259</th>\n",
       "      <td>2010</td>\n",
       "      <td>9167</td>\n",
       "      <td>1702</td>\n",
       "      <td>3114</td>\n",
       "      <td>3842</td>\n",
       "      <td>450</td>\n",
       "      <td>59</td>\n",
       "      <td>1.33</td>\n",
       "    </tr>\n",
       "  </tbody>\n",
       "</table>\n",
       "<p>260 rows × 8 columns</p>\n",
       "</div>"
      ],
      "text/plain": [
       "     Year  Total  Gas Fuel  Liquid Fuel  Solid Fuel  Cement  Gas Flaring  \\\n",
       "0    1751      3         0            0           3       0            0   \n",
       "1    1752      3         0            0           3       0            0   \n",
       "2    1753      3         0            0           3       0            0   \n",
       "3    1754      3         0            0           3       0            0   \n",
       "4    1755      3         0            0           3       0            0   \n",
       "..    ...    ...       ...          ...         ...     ...          ...   \n",
       "255  2006   8370      1525         3089        3339     356           61   \n",
       "256  2007   8566      1572         3081        3464     382           68   \n",
       "257  2008   8783      1631         3122        3571     388           71   \n",
       "258  2009   8740      1585         3056        3620     413           66   \n",
       "259  2010   9167      1702         3114        3842     450           59   \n",
       "\n",
       "     Per Capita  \n",
       "0          0.00  \n",
       "1          0.00  \n",
       "2          0.00  \n",
       "3          0.00  \n",
       "4          0.00  \n",
       "..          ...  \n",
       "255        1.27  \n",
       "256        1.28  \n",
       "257        1.30  \n",
       "258        1.28  \n",
       "259        1.33  \n",
       "\n",
       "[260 rows x 8 columns]"
      ]
     },
     "execution_count": 3,
     "metadata": {},
     "output_type": "execute_result"
    }
   ],
   "source": [
    "dataset"
   ]
  },
  {
   "cell_type": "code",
   "execution_count": 4,
   "id": "60936317",
   "metadata": {},
   "outputs": [
    {
     "data": {
      "text/plain": [
       "array([1751, 1752, 1753, 1754, 1755, 1756, 1757, 1758, 1759, 1760, 1761,\n",
       "       1762, 1763, 1764, 1765, 1766, 1767, 1768, 1769, 1770, 1771, 1772,\n",
       "       1773, 1774, 1775, 1776, 1777, 1778, 1779, 1780, 1781, 1782, 1783,\n",
       "       1784, 1785, 1786, 1787, 1788, 1789, 1790, 1791, 1792, 1793, 1794,\n",
       "       1795, 1796, 1797, 1798, 1799, 1800, 1801, 1802, 1803, 1804, 1805,\n",
       "       1806, 1807, 1808, 1809, 1810, 1811, 1812, 1813, 1814, 1815, 1816,\n",
       "       1817, 1818, 1819, 1820, 1821, 1822, 1823, 1824, 1825, 1826, 1827,\n",
       "       1828, 1829, 1830, 1831, 1832, 1833, 1834, 1835, 1836, 1837, 1838,\n",
       "       1839, 1840, 1841, 1842, 1843, 1844, 1845, 1846, 1847, 1848, 1849,\n",
       "       1850, 1851, 1852, 1853, 1854, 1855, 1856, 1857, 1858, 1859, 1860,\n",
       "       1861, 1862, 1863, 1864, 1865, 1866, 1867, 1868, 1869, 1870, 1871,\n",
       "       1872, 1873, 1874, 1875, 1876, 1877, 1878, 1879, 1880, 1881, 1882,\n",
       "       1883, 1884, 1885, 1886, 1887, 1888, 1889, 1890, 1891, 1892, 1893,\n",
       "       1894, 1895, 1896, 1897, 1898, 1899, 1900, 1901, 1902, 1903, 1904,\n",
       "       1905, 1906, 1907, 1908, 1909, 1910, 1911, 1912, 1913, 1914, 1915,\n",
       "       1916, 1917, 1918, 1919, 1920, 1921, 1922, 1923, 1924, 1925, 1926,\n",
       "       1927, 1928, 1929, 1930, 1931, 1932, 1933, 1934, 1935, 1936, 1937,\n",
       "       1938, 1939, 1940, 1941, 1942, 1943, 1944, 1945, 1946, 1947, 1948,\n",
       "       1949, 1950, 1951, 1952, 1953, 1954, 1955, 1956, 1957, 1958, 1959,\n",
       "       1960, 1961, 1962, 1963, 1964, 1965, 1966, 1967, 1968, 1969, 1970,\n",
       "       1971, 1972, 1973, 1974, 1975, 1976, 1977, 1978, 1979, 1980, 1981,\n",
       "       1982, 1983, 1984, 1985, 1986, 1987, 1988, 1989, 1990, 1991, 1992,\n",
       "       1993, 1994, 1995, 1996, 1997, 1998, 1999, 2000, 2001, 2002, 2003,\n",
       "       2004, 2005, 2006, 2007, 2008, 2009, 2010], dtype=int64)"
      ]
     },
     "execution_count": 4,
     "metadata": {},
     "output_type": "execute_result"
    }
   ],
   "source": [
    "x"
   ]
  },
  {
   "cell_type": "code",
   "execution_count": 5,
   "id": "f307d3d0",
   "metadata": {},
   "outputs": [
    {
     "data": {
      "text/plain": [
       "array([0.  , 0.  , 0.  , 0.  , 0.  , 0.  , 0.  , 0.  , 0.  , 0.  , 0.  ,\n",
       "       0.  , 0.  , 0.  , 0.  , 0.  , 0.  , 0.  , 0.  , 0.  , 0.  , 0.  ,\n",
       "       0.  , 0.  , 0.  , 0.  , 0.  , 0.  , 0.  , 0.  , 0.  , 0.  , 0.  ,\n",
       "       0.  , 0.  , 0.  , 0.  , 0.  , 0.  , 0.  , 0.  , 0.  , 0.  , 0.  ,\n",
       "       0.  , 0.  , 0.  , 0.  , 0.  , 0.  , 0.  , 0.  , 0.  , 0.  , 0.  ,\n",
       "       0.  , 0.  , 0.  , 0.  , 0.  , 0.  , 0.  , 0.  , 0.  , 0.  , 0.  ,\n",
       "       0.  , 0.  , 0.  , 0.  , 0.  , 0.  , 0.  , 0.  , 0.  , 0.  , 0.  ,\n",
       "       0.  , 0.  , 0.  , 0.  , 0.  , 0.  , 0.  , 0.  , 0.  , 0.  , 0.  ,\n",
       "       0.  , 0.  , 0.  , 0.  , 0.  , 0.  , 0.  , 0.  , 0.  , 0.  , 0.  ,\n",
       "       0.  , 0.  , 0.  , 0.  , 0.  , 0.  , 0.  , 0.  , 0.  , 0.  , 0.  ,\n",
       "       0.  , 0.  , 0.  , 0.  , 0.  , 0.  , 0.  , 0.  , 0.  , 0.  , 0.  ,\n",
       "       0.  , 0.  , 0.  , 0.  , 0.  , 0.  , 0.  , 0.  , 0.  , 0.  , 0.  ,\n",
       "       0.  , 0.  , 0.  , 0.  , 0.  , 0.  , 0.  , 0.  , 0.  , 0.  , 0.  ,\n",
       "       0.  , 0.  , 0.  , 0.  , 0.  , 0.  , 0.  , 0.  , 0.  , 0.  , 0.  ,\n",
       "       0.  , 0.  , 0.  , 0.  , 0.  , 0.  , 0.  , 0.  , 0.  , 0.  , 0.  ,\n",
       "       0.  , 0.  , 0.  , 0.  , 0.  , 0.  , 0.  , 0.  , 0.  , 0.  , 0.  ,\n",
       "       0.  , 0.  , 0.  , 0.  , 0.  , 0.  , 0.  , 0.  , 0.  , 0.  , 0.  ,\n",
       "       0.  , 0.  , 0.  , 0.  , 0.  , 0.  , 0.  , 0.  , 0.  , 0.  , 0.  ,\n",
       "       0.  , 0.64, 0.69, 0.68, 0.69, 0.69, 0.74, 0.77, 0.79, 0.8 , 0.83,\n",
       "       0.85, 0.84, 0.86, 0.88, 0.92, 0.94, 0.97, 0.98, 1.01, 1.05, 1.1 ,\n",
       "       1.12, 1.14, 1.18, 1.16, 1.13, 1.18, 1.19, 1.19, 1.23, 1.2 , 1.14,\n",
       "       1.11, 1.09, 1.11, 1.12, 1.14, 1.15, 1.17, 1.17, 1.16, 1.16, 1.13,\n",
       "       1.11, 1.11, 1.12, 1.13, 1.13, 1.12, 1.1 , 1.11, 1.12, 1.12, 1.17,\n",
       "       1.21, 1.24, 1.27, 1.28, 1.3 , 1.28, 1.33])"
      ]
     },
     "execution_count": 5,
     "metadata": {},
     "output_type": "execute_result"
    }
   ],
   "source": [
    "y"
   ]
  },
  {
   "cell_type": "markdown",
   "id": "865b5651",
   "metadata": {},
   "source": [
    "### Splitting the Dataset into the Training and Test Set"
   ]
  },
  {
   "cell_type": "code",
   "execution_count": 6,
   "id": "26f8261c",
   "metadata": {},
   "outputs": [],
   "source": [
    "from sklearn.model_selection import train_test_split\n",
    "x_train, x_test, y_train, y_test = train_test_split(x, y, test_size = 0.2, random_state = 1)"
   ]
  },
  {
   "cell_type": "code",
   "execution_count": 7,
   "id": "986425eb",
   "metadata": {},
   "outputs": [
    {
     "data": {
      "text/plain": [
       "array([1853, 1996, 1945, 1868, 1941, 1970, 1829, 2008, 1878, 1858, 1778,\n",
       "       2010, 1790, 1836, 1813, 1841, 1755, 1802, 1874, 1937, 1974, 1891,\n",
       "       1867, 1795, 1789, 2000, 1785, 1763, 1824, 2002, 1857, 2003, 1865,\n",
       "       1809, 1946, 1924, 1984, 1983, 1914, 1846, 1981, 1869, 1918, 1883,\n",
       "       1782, 1769, 1910, 1922, 1939, 1770, 1935, 1881], dtype=int64)"
      ]
     },
     "execution_count": 7,
     "metadata": {},
     "output_type": "execute_result"
    }
   ],
   "source": [
    "x_test"
   ]
  },
  {
   "cell_type": "code",
   "execution_count": 8,
   "id": "7e899197",
   "metadata": {},
   "outputs": [
    {
     "data": {
      "text/plain": [
       "array([1784, 1889, 1898, 1786, 1762, 1780, 1751, 1921, 1839, 1930, 1936,\n",
       "       1987, 1818, 1779, 1767, 1989, 1991, 1798, 1999, 1791, 1842, 1997,\n",
       "       1820, 1958, 1863, 1909, 1933, 1961, 2004, 1810, 1844, 1899, 1905,\n",
       "       1896, 1850, 1994, 1765, 1927, 1925, 1772, 1840, 1807, 1980, 1806,\n",
       "       1871, 1835, 1804, 1932, 1923, 1992, 1934, 1861, 2001, 1793, 1768,\n",
       "       1756, 1942, 1870, 1799, 1873, 1959, 1817, 1821, 1978, 1928, 1856,\n",
       "       1976, 1805, 1938, 1849, 1965, 1915, 1859, 1903, 1848, 1944, 1833,\n",
       "       1968, 1845, 1962, 1832, 1875, 1919, 1920, 1764, 1979, 1990, 1796,\n",
       "       1901, 1854, 1787, 1967, 1993, 1950, 1912, 1826, 2009, 1975, 1956,\n",
       "       1957, 1753, 1952, 1757, 1969, 1953, 1828, 1864, 1816, 1902, 1911,\n",
       "       1797, 1825, 1843, 1940, 1838, 1894, 1931, 1761, 1913, 1783, 1887,\n",
       "       1917, 1834, 2005, 1916, 1906, 1851, 1876, 1774, 1877, 1760, 1972,\n",
       "       1855, 1904, 1948, 1886, 1862, 1995, 1815, 1766, 1792, 1964, 1860,\n",
       "       1831, 1803, 1777, 1827, 1794, 1775, 1947, 1754, 1971, 1800, 1900,\n",
       "       1949, 1882, 1998, 1781, 1951, 1872, 1926, 1866, 1977, 1759, 1960,\n",
       "       1811, 1879, 1752, 1808, 1773, 1812, 1814, 1758, 2007, 1892, 1837,\n",
       "       1847, 1973, 1982, 1966, 1819, 1801, 1893, 1908, 1907, 1985, 1890,\n",
       "       1963, 1897, 1852, 1771, 1929, 1776, 1885, 1988, 1822, 1955, 1880,\n",
       "       1895, 1943, 1830, 1884, 1954, 1888, 2006, 1823, 1986, 1788],\n",
       "      dtype=int64)"
      ]
     },
     "execution_count": 8,
     "metadata": {},
     "output_type": "execute_result"
    }
   ],
   "source": [
    "x_train"
   ]
  },
  {
   "cell_type": "code",
   "execution_count": 9,
   "id": "82edae5c",
   "metadata": {},
   "outputs": [
    {
     "data": {
      "text/plain": [
       "array([0.  , 1.13, 0.  , 0.  , 0.  , 1.1 , 0.  , 1.3 , 0.  , 0.  , 0.  ,\n",
       "       1.33, 0.  , 0.  , 0.  , 0.  , 0.  , 0.  , 0.  , 0.  , 1.16, 0.  ,\n",
       "       0.  , 0.  , 0.  , 1.11, 0.  , 0.  , 0.  , 1.12, 0.  , 1.17, 0.  ,\n",
       "       0.  , 0.  , 0.  , 1.11, 1.09, 0.  , 0.  , 1.14, 0.  , 0.  , 0.  ,\n",
       "       0.  , 0.  , 0.  , 0.  , 0.  , 0.  , 0.  , 0.  ])"
      ]
     },
     "execution_count": 9,
     "metadata": {},
     "output_type": "execute_result"
    }
   ],
   "source": [
    "y_test"
   ]
  },
  {
   "cell_type": "code",
   "execution_count": 10,
   "id": "c8be1fd4",
   "metadata": {},
   "outputs": [
    {
     "data": {
      "text/plain": [
       "array([0.  , 0.  , 0.  , 0.  , 0.  , 0.  , 0.  , 0.  , 0.  , 0.  , 0.  ,\n",
       "       1.15, 0.  , 0.  , 0.  , 1.17, 1.16, 0.  , 1.1 , 0.  , 0.  , 1.13,\n",
       "       0.  , 0.8 , 0.  , 0.  , 0.  , 0.84, 1.21, 0.  , 0.  , 0.  , 0.  ,\n",
       "       0.  , 0.  , 1.11, 0.  , 0.  , 0.  , 0.  , 0.  , 0.  , 1.2 , 0.  ,\n",
       "       0.  , 0.  , 0.  , 0.  , 0.  , 1.13, 0.  , 0.  , 1.12, 0.  , 0.  ,\n",
       "       0.  , 0.  , 0.  , 0.  , 0.  , 0.83, 0.  , 0.  , 1.19, 0.  , 0.  ,\n",
       "       1.18, 0.  , 0.  , 0.  , 0.94, 0.  , 0.  , 0.  , 0.  , 0.  , 0.  ,\n",
       "       1.01, 0.  , 0.86, 0.  , 0.  , 0.  , 0.  , 0.  , 1.23, 1.16, 0.  ,\n",
       "       0.  , 0.  , 0.  , 0.98, 1.11, 0.64, 0.  , 0.  , 1.28, 1.13, 0.77,\n",
       "       0.79, 0.  , 0.68, 0.  , 1.05, 0.69, 0.  , 0.  , 0.  , 0.  , 0.  ,\n",
       "       0.  , 0.  , 0.  , 0.  , 0.  , 0.  , 0.  , 0.  , 0.  , 0.  , 0.  ,\n",
       "       0.  , 0.  , 1.24, 0.  , 0.  , 0.  , 0.  , 0.  , 0.  , 0.  , 1.14,\n",
       "       0.  , 0.  , 0.  , 0.  , 0.  , 1.12, 0.  , 0.  , 0.  , 0.92, 0.  ,\n",
       "       0.  , 0.  , 0.  , 0.  , 0.  , 0.  , 0.  , 0.  , 1.12, 0.  , 0.  ,\n",
       "       0.  , 0.  , 1.12, 0.  , 0.69, 0.  , 0.  , 0.  , 1.19, 0.  , 0.85,\n",
       "       0.  , 0.  , 0.  , 0.  , 0.  , 0.  , 0.  , 0.  , 1.28, 0.  , 0.  ,\n",
       "       0.  , 1.18, 1.11, 0.97, 0.  , 0.  , 0.  , 0.  , 0.  , 1.12, 0.  ,\n",
       "       0.88, 0.  , 0.  , 0.  , 0.  , 0.  , 0.  , 1.17, 0.  , 0.74, 0.  ,\n",
       "       0.  , 0.  , 0.  , 0.  , 0.69, 0.  , 1.27, 0.  , 1.14, 0.  ])"
      ]
     },
     "execution_count": 10,
     "metadata": {},
     "output_type": "execute_result"
    }
   ],
   "source": [
    "y_train"
   ]
  },
  {
   "cell_type": "markdown",
   "id": "9acb55eb",
   "metadata": {},
   "source": [
    "# "
   ]
  },
  {
   "cell_type": "markdown",
   "id": "1fd3ea86",
   "metadata": {},
   "source": [
    "## Linear Regression"
   ]
  },
  {
   "cell_type": "markdown",
   "id": "8b9e880b",
   "metadata": {},
   "source": [
    "### Fitting Linear Regression on Dataset"
   ]
  },
  {
   "cell_type": "code",
   "execution_count": 11,
   "id": "73c6b38e",
   "metadata": {},
   "outputs": [
    {
     "data": {
      "text/plain": [
       "LinearRegression()"
      ]
     },
     "execution_count": 11,
     "metadata": {},
     "output_type": "execute_result"
    }
   ],
   "source": [
    "from sklearn.linear_model import LinearRegression\n",
    "regressor = LinearRegression()\n",
    "x_train = x_train.reshape(-1, 1)\n",
    "regressor.fit(x_train, y_train)"
   ]
  },
  {
   "cell_type": "markdown",
   "id": "74188086",
   "metadata": {},
   "source": [
    "### Visualising the Testing Test Results"
   ]
  },
  {
   "cell_type": "code",
   "execution_count": 12,
   "id": "39fc3cfa",
   "metadata": {},
   "outputs": [
    {
     "data": {
      "image/png": "[encoded data removed]",
      "text/plain": [
       "<Figure size 432x288 with 1 Axes>"
      ]
     },
     "metadata": {
      "needs_background": "light"
     },
     "output_type": "display_data"
    }
   ],
   "source": [
    "plt.scatter(x_test, y_test, color = 'orange')\n",
    "plt.plot(x_train, regressor.predict(x_train), color = 'green')\n",
    "plt.title('CO2 Production (Testing Set)')\n",
    "plt.xlabel('Year')\n",
    "plt.ylabel('Per Capita')\n",
    "plt.show()"
   ]
  },
  {
   "cell_type": "markdown",
   "id": "9d5960cb",
   "metadata": {},
   "source": [
    "### Predicting a New Result"
   ]
  },
  {
   "cell_type": "code",
   "execution_count": 13,
   "id": "2f1c188b",
   "metadata": {},
   "outputs": [
    {
     "name": "stdout",
     "output_type": "stream",
     "text": [
      "[0.8340418]\n"
     ]
    }
   ],
   "source": [
    "print(regressor.predict([[2011]]))"
   ]
  },
  {
   "cell_type": "code",
   "execution_count": 14,
   "id": "a10c1ce8",
   "metadata": {},
   "outputs": [
    {
     "name": "stdout",
     "output_type": "stream",
     "text": [
      "[0.83850375]\n"
     ]
    }
   ],
   "source": [
    "print(regressor.predict([[2012]]))"
   ]
  },
  {
   "cell_type": "code",
   "execution_count": 15,
   "id": "f899c647",
   "metadata": {},
   "outputs": [
    {
     "name": "stdout",
     "output_type": "stream",
     "text": [
      "[0.84296571]\n"
     ]
    }
   ],
   "source": [
    "print(regressor.predict([[2013]]))"
   ]
  },
  {
   "cell_type": "markdown",
   "id": "827a8258",
   "metadata": {},
   "source": [
    "### "
   ]
  },
  {
   "cell_type": "markdown",
   "id": "7dfb3ff1",
   "metadata": {},
   "source": [
    "## Decision Tree"
   ]
  },
  {
   "cell_type": "markdown",
   "id": "550cd4c6",
   "metadata": {},
   "source": [
    "### Fitting Decision Tree Regression to the Dataset"
   ]
  },
  {
   "cell_type": "code",
   "execution_count": 16,
   "id": "0b5c4327",
   "metadata": {},
   "outputs": [
    {
     "data": {
      "text/plain": [
       "DecisionTreeRegressor(random_state=0)"
      ]
     },
     "execution_count": 16,
     "metadata": {},
     "output_type": "execute_result"
    }
   ],
   "source": [
    "from sklearn.tree import DecisionTreeRegressor\n",
    "regressor = DecisionTreeRegressor(random_state = 0)\n",
    "regressor.fit(x_train, y_train)"
   ]
  },
  {
   "cell_type": "markdown",
   "id": "e5e2cf27",
   "metadata": {},
   "source": [
    "### Visualising the Decision Tree Regression Results (higher resolution)"
   ]
  },
  {
   "cell_type": "code",
   "execution_count": 17,
   "id": "249d301e",
   "metadata": {},
   "outputs": [
    {
     "data": {
      "image/png": "[encoded data removed]",
      "text/plain": [
       "<Figure size 432x288 with 1 Axes>"
      ]
     },
     "metadata": {
      "needs_background": "light"
     },
     "output_type": "display_data"
    }
   ],
   "source": [
    "x_grid = np.arange(min(x), max(x), 0.01)\n",
    "x_grid = x_grid.reshape((len(x_grid), 1))\n",
    "plt.scatter(x, y, color = 'pink')\n",
    "plt.plot(x_grid, regressor.predict(x_grid), color ='purple')\n",
    "plt.title('CO2 Production (Decision Tree Regression)')\n",
    "plt.xlabel('Year')\n",
    "plt.ylabel('Per Capita')\n",
    "plt.show()"
   ]
  },
  {
   "cell_type": "markdown",
   "id": "b3b3fe49",
   "metadata": {},
   "source": [
    "### Predicting a New Result"
   ]
  },
  {
   "cell_type": "code",
   "execution_count": 18,
   "id": "8c113c70",
   "metadata": {},
   "outputs": [
    {
     "name": "stdout",
     "output_type": "stream",
     "text": [
      "[1.28]\n"
     ]
    }
   ],
   "source": [
    "print(regressor.predict([[2011]]))"
   ]
  },
  {
   "cell_type": "code",
   "execution_count": 19,
   "id": "4934b2e2",
   "metadata": {},
   "outputs": [
    {
     "name": "stdout",
     "output_type": "stream",
     "text": [
      "[1.28]\n"
     ]
    }
   ],
   "source": [
    "print(regressor.predict([[2012]]))"
   ]
  },
  {
   "cell_type": "code",
   "execution_count": 20,
   "id": "145c3fae",
   "metadata": {},
   "outputs": [
    {
     "name": "stdout",
     "output_type": "stream",
     "text": [
      "[1.28]\n"
     ]
    }
   ],
   "source": [
    "print(regressor.predict([[2013]]))"
   ]
  },
  {
   "cell_type": "markdown",
   "id": "ee8baf4c",
   "metadata": {},
   "source": [
    "# "
   ]
  },
  {
   "cell_type": "markdown",
   "id": "4a0cac65",
   "metadata": {},
   "source": [
    "# "
   ]
  },
  {
   "cell_type": "markdown",
   "id": "cdc51acb",
   "metadata": {},
   "source": [
    "## Dataset 2"
   ]
  },
  {
   "cell_type": "markdown",
   "id": "f474fbb8",
   "metadata": {},
   "source": [
    "### Importing the Dataset"
   ]
  },
  {
   "cell_type": "code",
   "execution_count": 21,
   "id": "e443f0ec",
   "metadata": {},
   "outputs": [],
   "source": [
    "dataset2 = pd.read_csv('Dataset2.csv')\n",
    "dataset2 = dataset2.fillna(0)\n",
    "X = dataset2.iloc[:, -2].values     \n",
    "Y = dataset2.iloc[:, -1].values"
   ]
  },
  {
   "cell_type": "code",
   "execution_count": 22,
   "id": "9ddc4fe9",
   "metadata": {},
   "outputs": [
    {
     "data": {
      "text/html": [
       "<div>\n",
       "<style scoped>\n",
       "    .dataframe tbody tr th:only-of-type {\n",
       "        vertical-align: middle;\n",
       "    }\n",
       "\n",
       "    .dataframe tbody tr th {\n",
       "        vertical-align: top;\n",
       "    }\n",
       "\n",
       "    .dataframe thead th {\n",
       "        text-align: right;\n",
       "    }\n",
       "</style>\n",
       "<table border=\"1\" class=\"dataframe\">\n",
       "  <thead>\n",
       "    <tr style=\"text-align: right;\">\n",
       "      <th></th>\n",
       "      <th>Source</th>\n",
       "      <th>Year</th>\n",
       "      <th>Mean</th>\n",
       "    </tr>\n",
       "  </thead>\n",
       "  <tbody>\n",
       "    <tr>\n",
       "      <th>0</th>\n",
       "      <td>GCAG</td>\n",
       "      <td>2015</td>\n",
       "      <td>0.8990</td>\n",
       "    </tr>\n",
       "    <tr>\n",
       "      <th>1</th>\n",
       "      <td>GISTEMP</td>\n",
       "      <td>2015</td>\n",
       "      <td>0.8700</td>\n",
       "    </tr>\n",
       "    <tr>\n",
       "      <th>2</th>\n",
       "      <td>GCAG</td>\n",
       "      <td>2014</td>\n",
       "      <td>0.7402</td>\n",
       "    </tr>\n",
       "    <tr>\n",
       "      <th>3</th>\n",
       "      <td>GISTEMP</td>\n",
       "      <td>2014</td>\n",
       "      <td>0.7500</td>\n",
       "    </tr>\n",
       "    <tr>\n",
       "      <th>4</th>\n",
       "      <td>GCAG</td>\n",
       "      <td>2013</td>\n",
       "      <td>0.6687</td>\n",
       "    </tr>\n",
       "    <tr>\n",
       "      <th>...</th>\n",
       "      <td>...</td>\n",
       "      <td>...</td>\n",
       "      <td>...</td>\n",
       "    </tr>\n",
       "    <tr>\n",
       "      <th>267</th>\n",
       "      <td>GISTEMP</td>\n",
       "      <td>1882</td>\n",
       "      <td>-0.1000</td>\n",
       "    </tr>\n",
       "    <tr>\n",
       "      <th>268</th>\n",
       "      <td>GCAG</td>\n",
       "      <td>1881</td>\n",
       "      <td>-0.0707</td>\n",
       "    </tr>\n",
       "    <tr>\n",
       "      <th>269</th>\n",
       "      <td>GISTEMP</td>\n",
       "      <td>1881</td>\n",
       "      <td>-0.1200</td>\n",
       "    </tr>\n",
       "    <tr>\n",
       "      <th>270</th>\n",
       "      <td>GCAG</td>\n",
       "      <td>1880</td>\n",
       "      <td>-0.1247</td>\n",
       "    </tr>\n",
       "    <tr>\n",
       "      <th>271</th>\n",
       "      <td>GISTEMP</td>\n",
       "      <td>1880</td>\n",
       "      <td>-0.2000</td>\n",
       "    </tr>\n",
       "  </tbody>\n",
       "</table>\n",
       "<p>272 rows × 3 columns</p>\n",
       "</div>"
      ],
      "text/plain": [
       "      Source  Year    Mean\n",
       "0       GCAG  2015  0.8990\n",
       "1    GISTEMP  2015  0.8700\n",
       "2       GCAG  2014  0.7402\n",
       "3    GISTEMP  2014  0.7500\n",
       "4       GCAG  2013  0.6687\n",
       "..       ...   ...     ...\n",
       "267  GISTEMP  1882 -0.1000\n",
       "268     GCAG  1881 -0.0707\n",
       "269  GISTEMP  1881 -0.1200\n",
       "270     GCAG  1880 -0.1247\n",
       "271  GISTEMP  1880 -0.2000\n",
       "\n",
       "[272 rows x 3 columns]"
      ]
     },
     "execution_count": 22,
     "metadata": {},
     "output_type": "execute_result"
    }
   ],
   "source": [
    "dataset2"
   ]
  },
  {
   "cell_type": "code",
   "execution_count": null,
   "id": "44c98aeb",
   "metadata": {},
   "outputs": [],
   "source": [
    "X"
   ]
  },
  {
   "cell_type": "code",
   "execution_count": null,
   "id": "7b973272",
   "metadata": {},
   "outputs": [],
   "source": [
    "Y"
   ]
  },
  {
   "cell_type": "markdown",
   "id": "2e872f03",
   "metadata": {},
   "source": [
    "### Splitting the Dataset into the Training and Test Set"
   ]
  },
  {
   "cell_type": "code",
   "execution_count": 38,
   "id": "db21bb31",
   "metadata": {},
   "outputs": [],
   "source": [
    "from sklearn.model_selection import train_test_split\n",
    "X_train, X_test, Y_train, Y_test = train_test_split(X, Y, test_size = 0.2, random_state = 0)\n",
    "X = X.reshape(-1, 1)"
   ]
  },
  {
   "cell_type": "code",
   "execution_count": null,
   "id": "bc7eec92",
   "metadata": {},
   "outputs": [],
   "source": [
    "X_test"
   ]
  },
  {
   "cell_type": "code",
   "execution_count": null,
   "id": "d73720a7",
   "metadata": {},
   "outputs": [],
   "source": [
    "X_train"
   ]
  },
  {
   "cell_type": "code",
   "execution_count": null,
   "id": "453e42d5",
   "metadata": {},
   "outputs": [],
   "source": [
    "Y_test"
   ]
  },
  {
   "cell_type": "code",
   "execution_count": null,
   "id": "f62911a7",
   "metadata": {},
   "outputs": [],
   "source": [
    "Y_train"
   ]
  },
  {
   "cell_type": "markdown",
   "id": "8004e84b",
   "metadata": {},
   "source": [
    "# "
   ]
  },
  {
   "cell_type": "markdown",
   "id": "f4164f3e",
   "metadata": {},
   "source": [
    "## Polynmial Regression"
   ]
  },
  {
   "cell_type": "markdown",
   "id": "c4aa756d",
   "metadata": {},
   "source": [
    "### Fitting Polynomial Regression to the Dataset"
   ]
  },
  {
   "cell_type": "code",
   "execution_count": 28,
   "id": "27e35357",
   "metadata": {},
   "outputs": [
    {
     "data": {
      "text/plain": [
       "LinearRegression()"
      ]
     },
     "execution_count": 28,
     "metadata": {},
     "output_type": "execute_result"
    }
   ],
   "source": [
    "from sklearn.preprocessing import PolynomialFeatures\n",
    "poly_reg = PolynomialFeatures(degree = 4)\n",
    "X_poly = poly_reg.fit_transform(X)\n",
    "poly_reg.fit(X_poly, Y)\n",
    "regressor2 = LinearRegression()\n",
    "regressor2.fit(X_poly, Y)"
   ]
  },
  {
   "cell_type": "markdown",
   "id": "b1ae9e66",
   "metadata": {},
   "source": [
    "### Visualising the Polynomial Regression Results (for higher resolution and smoother curve)"
   ]
  },
  {
   "cell_type": "code",
   "execution_count": 33,
   "id": "c45d03d9",
   "metadata": {},
   "outputs": [
    {
     "data": {
      "image/png": "[encoded data removed]",
      "text/plain": [
       "<Figure size 432x288 with 1 Axes>"
      ]
     },
     "metadata": {
      "needs_background": "light"
     },
     "output_type": "display_data"
    }
   ],
   "source": [
    "X_grid = np.arange(min(X), max(X), 0.1)\n",
    "X_grid = X_grid.reshape((len(X_grid), 1))\n",
    "plt.scatter(X, Y, color = 'red')\n",
    "plt.plot(X_grid, regressor2.predict(poly_reg.fit_transform(X_grid)), color ='blue')\n",
    "plt.title('Annual Temperature (Polynomial Regression)')\n",
    "plt.xlabel('Year')\n",
    "plt.ylabel('Mean')\n",
    "plt.show()"
   ]
  },
  {
   "cell_type": "markdown",
   "id": "7241c11c",
   "metadata": {},
   "source": [
    "### Predicting a New Result with Polynomial Regression"
   ]
  },
  {
   "cell_type": "code",
   "execution_count": 36,
   "id": "a3cbe3bf",
   "metadata": {},
   "outputs": [
    {
     "data": {
      "text/plain": [
       "array([0.77558386])"
      ]
     },
     "execution_count": 36,
     "metadata": {},
     "output_type": "execute_result"
    }
   ],
   "source": [
    "regressor2.predict(poly_reg.fit_transform([[2016]]))"
   ]
  },
  {
   "cell_type": "code",
   "execution_count": 37,
   "id": "8074c784",
   "metadata": {},
   "outputs": [
    {
     "data": {
      "text/plain": [
       "array([0.79594667])"
      ]
     },
     "execution_count": 37,
     "metadata": {},
     "output_type": "execute_result"
    }
   ],
   "source": [
    "regressor2.predict(poly_reg.fit_transform([[2017]]))"
   ]
  },
  {
   "cell_type": "markdown",
   "id": "44ab7ef9",
   "metadata": {},
   "source": [
    "# "
   ]
  },
  {
   "cell_type": "markdown",
   "id": "0ce2601d",
   "metadata": {},
   "source": [
    "## Random Forest Regression"
   ]
  },
  {
   "cell_type": "markdown",
   "id": "c2b59b1b",
   "metadata": {},
   "source": [
    "### Training the Random Forest Regression Model on the Whole Dataset"
   ]
  },
  {
   "cell_type": "code",
   "execution_count": 39,
   "id": "4f709a10",
   "metadata": {},
   "outputs": [
    {
     "data": {
      "text/plain": [
       "RandomForestRegressor(n_estimators=10, random_state=0)"
      ]
     },
     "execution_count": 39,
     "metadata": {},
     "output_type": "execute_result"
    }
   ],
   "source": [
    "from sklearn.ensemble import RandomForestRegressor\n",
    "regressor = RandomForestRegressor(n_estimators = 10, random_state = 0)\n",
    "regressor.fit(X, Y)"
   ]
  },
  {
   "cell_type": "markdown",
   "id": "6cb33c28",
   "metadata": {},
   "source": [
    "### Visualising the Random Forest Regression Results (higher resolution)"
   ]
  },
  {
   "cell_type": "code",
   "execution_count": 40,
   "id": "71fdba2a",
   "metadata": {},
   "outputs": [
    {
     "data": {
      "image/png": "[encoded data removed]",
      "text/plain": [
       "<Figure size 432x288 with 1 Axes>"
      ]
     },
     "metadata": {
      "needs_background": "light"
     },
     "output_type": "display_data"
    }
   ],
   "source": [
    "X_grid = np.arange(min(X), max(X), 0.01)\n",
    "X_grid = X_grid.reshape((len(X_grid), 1))\n",
    "plt.scatter(X, Y, color = 'red')\n",
    "plt.plot(X_grid, regressor.predict(X_grid), color = 'blue')\n",
    "plt.title('Annual Temperature (Random Forest Regression)')\n",
    "plt.xlabel('Year')\n",
    "plt.ylabel('Mean')\n",
    "plt.show()"
   ]
  },
  {
   "cell_type": "markdown",
   "id": "dcc73359",
   "metadata": {},
   "source": [
    "### Predicting a New Result"
   ]
  },
  {
   "cell_type": "code",
   "execution_count": 41,
   "id": "f796c13f",
   "metadata": {},
   "outputs": [
    {
     "name": "stdout",
     "output_type": "stream",
     "text": [
      "[0.88353333]\n"
     ]
    }
   ],
   "source": [
    "print(regressor.predict([[2016]]))"
   ]
  },
  {
   "cell_type": "code",
   "execution_count": 42,
   "id": "8ba6e734",
   "metadata": {},
   "outputs": [
    {
     "name": "stdout",
     "output_type": "stream",
     "text": [
      "[0.88353333]\n"
     ]
    }
   ],
   "source": [
    "print(regressor.predict([[2017]]))"
   ]
  }
 ],
 "metadata": {
  "kernelspec": {
   "display_name": "Python 3 (ipykernel)",
   "language": "python",
   "name": "python3"
  },
  "language_info": {
   "codemirror_mode": {
    "name": "ipython",
    "version": 3
   },
   "file_extension": ".py",
   "mimetype": "text/x-python",
   "name": "python",
   "nbconvert_exporter": "python",
   "pygments_lexer": "ipython3",
   "version": "3.8.7"
  }
 },
 "nbformat": 4,
 "nbformat_minor": 5
}
