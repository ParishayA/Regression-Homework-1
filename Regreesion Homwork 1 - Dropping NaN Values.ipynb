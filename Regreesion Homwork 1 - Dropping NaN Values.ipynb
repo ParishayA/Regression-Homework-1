{
 "cells": [
  {
   "cell_type": "markdown",
   "id": "9302f068",
   "metadata": {},
   "source": [
    "## Dataset 1"
   ]
  },
  {
   "cell_type": "markdown",
   "id": "79dc7b9f",
   "metadata": {},
   "source": [
    "### Importing the Librabries"
   ]
  },
  {
   "cell_type": "code",
   "execution_count": 21,
   "id": "3c318daf",
   "metadata": {},
   "outputs": [],
   "source": [
    "import numpy as np\n",
    "import matplotlib.pyplot as plt\n",
    "import pandas as pd"
   ]
  },
  {
   "cell_type": "markdown",
   "id": "2d6ec8f2",
   "metadata": {},
   "source": [
    "### Importing the Dataset"
   ]
  },
  {
   "cell_type": "code",
   "execution_count": 22,
   "id": "ea469803",
   "metadata": {},
   "outputs": [],
   "source": [
    "dataset = pd.read_csv('Dataset1.csv')\n",
    "dataset = dataset.dropna()\n",
    "x = dataset.iloc[:, 0].values     \n",
    "y = dataset.iloc[:, -1].values"
   ]
  },
  {
   "cell_type": "code",
   "execution_count": 23,
   "id": "8815055f",
   "metadata": {},
   "outputs": [
    {
     "data": {
      "text/html": [
       "<div>\n",
       "<style scoped>\n",
       "    .dataframe tbody tr th:only-of-type {\n",
       "        vertical-align: middle;\n",
       "    }\n",
       "\n",
       "    .dataframe tbody tr th {\n",
       "        vertical-align: top;\n",
       "    }\n",
       "\n",
       "    .dataframe thead th {\n",
       "        text-align: right;\n",
       "    }\n",
       "</style>\n",
       "<table border=\"1\" class=\"dataframe\">\n",
       "  <thead>\n",
       "    <tr style=\"text-align: right;\">\n",
       "      <th></th>\n",
       "      <th>Year</th>\n",
       "      <th>Total</th>\n",
       "      <th>Gas Fuel</th>\n",
       "      <th>Liquid Fuel</th>\n",
       "      <th>Solid Fuel</th>\n",
       "      <th>Cement</th>\n",
       "      <th>Gas Flaring</th>\n",
       "      <th>Per Capita</th>\n",
       "    </tr>\n",
       "  </thead>\n",
       "  <tbody>\n",
       "    <tr>\n",
       "      <th>199</th>\n",
       "      <td>1950</td>\n",
       "      <td>1630</td>\n",
       "      <td>97</td>\n",
       "      <td>423</td>\n",
       "      <td>1070</td>\n",
       "      <td>18</td>\n",
       "      <td>23</td>\n",
       "      <td>0.64</td>\n",
       "    </tr>\n",
       "    <tr>\n",
       "      <th>200</th>\n",
       "      <td>1951</td>\n",
       "      <td>1767</td>\n",
       "      <td>115</td>\n",
       "      <td>479</td>\n",
       "      <td>1129</td>\n",
       "      <td>20</td>\n",
       "      <td>24</td>\n",
       "      <td>0.69</td>\n",
       "    </tr>\n",
       "    <tr>\n",
       "      <th>201</th>\n",
       "      <td>1952</td>\n",
       "      <td>1795</td>\n",
       "      <td>124</td>\n",
       "      <td>504</td>\n",
       "      <td>1119</td>\n",
       "      <td>22</td>\n",
       "      <td>26</td>\n",
       "      <td>0.68</td>\n",
       "    </tr>\n",
       "    <tr>\n",
       "      <th>202</th>\n",
       "      <td>1953</td>\n",
       "      <td>1841</td>\n",
       "      <td>131</td>\n",
       "      <td>533</td>\n",
       "      <td>1125</td>\n",
       "      <td>24</td>\n",
       "      <td>27</td>\n",
       "      <td>0.69</td>\n",
       "    </tr>\n",
       "    <tr>\n",
       "      <th>203</th>\n",
       "      <td>1954</td>\n",
       "      <td>1865</td>\n",
       "      <td>138</td>\n",
       "      <td>557</td>\n",
       "      <td>1116</td>\n",
       "      <td>27</td>\n",
       "      <td>27</td>\n",
       "      <td>0.69</td>\n",
       "    </tr>\n",
       "    <tr>\n",
       "      <th>...</th>\n",
       "      <td>...</td>\n",
       "      <td>...</td>\n",
       "      <td>...</td>\n",
       "      <td>...</td>\n",
       "      <td>...</td>\n",
       "      <td>...</td>\n",
       "      <td>...</td>\n",
       "      <td>...</td>\n",
       "    </tr>\n",
       "    <tr>\n",
       "      <th>255</th>\n",
       "      <td>2006</td>\n",
       "      <td>8370</td>\n",
       "      <td>1525</td>\n",
       "      <td>3089</td>\n",
       "      <td>3339</td>\n",
       "      <td>356</td>\n",
       "      <td>61</td>\n",
       "      <td>1.27</td>\n",
       "    </tr>\n",
       "    <tr>\n",
       "      <th>256</th>\n",
       "      <td>2007</td>\n",
       "      <td>8566</td>\n",
       "      <td>1572</td>\n",
       "      <td>3081</td>\n",
       "      <td>3464</td>\n",
       "      <td>382</td>\n",
       "      <td>68</td>\n",
       "      <td>1.28</td>\n",
       "    </tr>\n",
       "    <tr>\n",
       "      <th>257</th>\n",
       "      <td>2008</td>\n",
       "      <td>8783</td>\n",
       "      <td>1631</td>\n",
       "      <td>3122</td>\n",
       "      <td>3571</td>\n",
       "      <td>388</td>\n",
       "      <td>71</td>\n",
       "      <td>1.30</td>\n",
       "    </tr>\n",
       "    <tr>\n",
       "      <th>258</th>\n",
       "      <td>2009</td>\n",
       "      <td>8740</td>\n",
       "      <td>1585</td>\n",
       "      <td>3056</td>\n",
       "      <td>3620</td>\n",
       "      <td>413</td>\n",
       "      <td>66</td>\n",
       "      <td>1.28</td>\n",
       "    </tr>\n",
       "    <tr>\n",
       "      <th>259</th>\n",
       "      <td>2010</td>\n",
       "      <td>9167</td>\n",
       "      <td>1702</td>\n",
       "      <td>3114</td>\n",
       "      <td>3842</td>\n",
       "      <td>450</td>\n",
       "      <td>59</td>\n",
       "      <td>1.33</td>\n",
       "    </tr>\n",
       "  </tbody>\n",
       "</table>\n",
       "<p>61 rows × 8 columns</p>\n",
       "</div>"
      ],
      "text/plain": [
       "     Year  Total  Gas Fuel  Liquid Fuel  Solid Fuel  Cement  Gas Flaring  \\\n",
       "199  1950   1630        97          423        1070      18           23   \n",
       "200  1951   1767       115          479        1129      20           24   \n",
       "201  1952   1795       124          504        1119      22           26   \n",
       "202  1953   1841       131          533        1125      24           27   \n",
       "203  1954   1865       138          557        1116      27           27   \n",
       "..    ...    ...       ...          ...         ...     ...          ...   \n",
       "255  2006   8370      1525         3089        3339     356           61   \n",
       "256  2007   8566      1572         3081        3464     382           68   \n",
       "257  2008   8783      1631         3122        3571     388           71   \n",
       "258  2009   8740      1585         3056        3620     413           66   \n",
       "259  2010   9167      1702         3114        3842     450           59   \n",
       "\n",
       "     Per Capita  \n",
       "199        0.64  \n",
       "200        0.69  \n",
       "201        0.68  \n",
       "202        0.69  \n",
       "203        0.69  \n",
       "..          ...  \n",
       "255        1.27  \n",
       "256        1.28  \n",
       "257        1.30  \n",
       "258        1.28  \n",
       "259        1.33  \n",
       "\n",
       "[61 rows x 8 columns]"
      ]
     },
     "execution_count": 23,
     "metadata": {},
     "output_type": "execute_result"
    }
   ],
   "source": [
    "dataset"
   ]
  },
  {
   "cell_type": "code",
   "execution_count": 24,
   "id": "60936317",
   "metadata": {},
   "outputs": [
    {
     "data": {
      "text/plain": [
       "array([1950, 1951, 1952, 1953, 1954, 1955, 1956, 1957, 1958, 1959, 1960,\n",
       "       1961, 1962, 1963, 1964, 1965, 1966, 1967, 1968, 1969, 1970, 1971,\n",
       "       1972, 1973, 1974, 1975, 1976, 1977, 1978, 1979, 1980, 1981, 1982,\n",
       "       1983, 1984, 1985, 1986, 1987, 1988, 1989, 1990, 1991, 1992, 1993,\n",
       "       1994, 1995, 1996, 1997, 1998, 1999, 2000, 2001, 2002, 2003, 2004,\n",
       "       2005, 2006, 2007, 2008, 2009, 2010], dtype=int64)"
      ]
     },
     "execution_count": 24,
     "metadata": {},
     "output_type": "execute_result"
    }
   ],
   "source": [
    "x"
   ]
  },
  {
   "cell_type": "code",
   "execution_count": 25,
   "id": "f307d3d0",
   "metadata": {},
   "outputs": [
    {
     "data": {
      "text/plain": [
       "array([0.64, 0.69, 0.68, 0.69, 0.69, 0.74, 0.77, 0.79, 0.8 , 0.83, 0.85,\n",
       "       0.84, 0.86, 0.88, 0.92, 0.94, 0.97, 0.98, 1.01, 1.05, 1.1 , 1.12,\n",
       "       1.14, 1.18, 1.16, 1.13, 1.18, 1.19, 1.19, 1.23, 1.2 , 1.14, 1.11,\n",
       "       1.09, 1.11, 1.12, 1.14, 1.15, 1.17, 1.17, 1.16, 1.16, 1.13, 1.11,\n",
       "       1.11, 1.12, 1.13, 1.13, 1.12, 1.1 , 1.11, 1.12, 1.12, 1.17, 1.21,\n",
       "       1.24, 1.27, 1.28, 1.3 , 1.28, 1.33])"
      ]
     },
     "execution_count": 25,
     "metadata": {},
     "output_type": "execute_result"
    }
   ],
   "source": [
    "y"
   ]
  },
  {
   "cell_type": "markdown",
   "id": "865b5651",
   "metadata": {},
   "source": [
    "### Splitting the Dataset into the Training and Test Set"
   ]
  },
  {
   "cell_type": "code",
   "execution_count": 26,
   "id": "26f8261c",
   "metadata": {},
   "outputs": [],
   "source": [
    "from sklearn.model_selection import train_test_split\n",
    "x_train, x_test, y_train, y_test = train_test_split(x, y, test_size = 0.2, random_state = 1)"
   ]
  },
  {
   "cell_type": "code",
   "execution_count": 27,
   "id": "986425eb",
   "metadata": {},
   "outputs": [
    {
     "data": {
      "text/plain": [
       "array([1990, 1992, 1952, 1999, 2001, 1976, 1984, 1986, 1991, 1989, 1974,\n",
       "       2004, 1996], dtype=int64)"
      ]
     },
     "execution_count": 27,
     "metadata": {},
     "output_type": "execute_result"
    }
   ],
   "source": [
    "x_test"
   ]
  },
  {
   "cell_type": "code",
   "execution_count": 28,
   "id": "7e899197",
   "metadata": {},
   "outputs": [
    {
     "data": {
      "text/plain": [
       "array([1953, 1977, 2009, 1971, 1960, 2003, 1969, 1983, 2007, 1967, 2002,\n",
       "       2000, 1997, 1981, 1998, 1988, 2006, 1963, 1972, 1982, 1980, 1985,\n",
       "       1973, 1954, 1964, 1979, 1978, 2005, 1994, 1968, 2010, 1970, 1975,\n",
       "       1956, 1995, 1957, 2008, 1951, 1966, 1950, 1965, 1955, 1961, 1959,\n",
       "       1958, 1962, 1993, 1987], dtype=int64)"
      ]
     },
     "execution_count": 28,
     "metadata": {},
     "output_type": "execute_result"
    }
   ],
   "source": [
    "x_train"
   ]
  },
  {
   "cell_type": "code",
   "execution_count": 29,
   "id": "82edae5c",
   "metadata": {},
   "outputs": [
    {
     "data": {
      "text/plain": [
       "array([1.16, 1.13, 0.68, 1.1 , 1.12, 1.18, 1.11, 1.14, 1.16, 1.17, 1.16,\n",
       "       1.21, 1.13])"
      ]
     },
     "execution_count": 29,
     "metadata": {},
     "output_type": "execute_result"
    }
   ],
   "source": [
    "y_test"
   ]
  },
  {
   "cell_type": "code",
   "execution_count": 30,
   "id": "c8be1fd4",
   "metadata": {},
   "outputs": [
    {
     "data": {
      "text/plain": [
       "array([0.69, 1.19, 1.28, 1.12, 0.85, 1.17, 1.05, 1.09, 1.28, 0.98, 1.12,\n",
       "       1.11, 1.13, 1.14, 1.12, 1.17, 1.27, 0.88, 1.14, 1.11, 1.2 , 1.12,\n",
       "       1.18, 0.69, 0.92, 1.23, 1.19, 1.24, 1.11, 1.01, 1.33, 1.1 , 1.13,\n",
       "       0.77, 1.12, 0.79, 1.3 , 0.69, 0.97, 0.64, 0.94, 0.74, 0.84, 0.83,\n",
       "       0.8 , 0.86, 1.11, 1.15])"
      ]
     },
     "execution_count": 30,
     "metadata": {},
     "output_type": "execute_result"
    }
   ],
   "source": [
    "y_train"
   ]
  },
  {
   "cell_type": "markdown",
   "id": "1c6bfa8d",
   "metadata": {},
   "source": [
    "# "
   ]
  },
  {
   "cell_type": "markdown",
   "id": "27e03270",
   "metadata": {},
   "source": [
    "## Linear Regression"
   ]
  },
  {
   "cell_type": "markdown",
   "id": "8b9e880b",
   "metadata": {},
   "source": [
    "### Fitting Linear Regression on Dataset"
   ]
  },
  {
   "cell_type": "code",
   "execution_count": 31,
   "id": "73c6b38e",
   "metadata": {},
   "outputs": [
    {
     "data": {
      "text/plain": [
       "LinearRegression()"
      ]
     },
     "execution_count": 31,
     "metadata": {},
     "output_type": "execute_result"
    }
   ],
   "source": [
    "from sklearn.linear_model import LinearRegression\n",
    "regressor = LinearRegression()\n",
    "x_train = x_train.reshape(-1, 1)\n",
    "regressor.fit(x_train, y_train)"
   ]
  },
  {
   "cell_type": "markdown",
   "id": "74188086",
   "metadata": {},
   "source": [
    "### Visualising the Testing Test Results"
   ]
  },
  {
   "cell_type": "code",
   "execution_count": 32,
   "id": "39fc3cfa",
   "metadata": {},
   "outputs": [
    {
     "data": {
      "image/png": "[encoded data removed]",
      "text/plain": [
       "<Figure size 432x288 with 1 Axes>"
      ]
     },
     "metadata": {
      "needs_background": "light"
     },
     "output_type": "display_data"
    }
   ],
   "source": [
    "plt.scatter(x_test, y_test, color = 'orange')\n",
    "plt.plot(x_train, regressor.predict(x_train), color = 'green')\n",
    "plt.title('CO2 Production (Testing Set)')\n",
    "plt.xlabel('Year')\n",
    "plt.ylabel('Per Capita')\n",
    "plt.show()"
   ]
  },
  {
   "cell_type": "markdown",
   "id": "9d5960cb",
   "metadata": {},
   "source": [
    "### Predicting a New Result"
   ]
  },
  {
   "cell_type": "code",
   "execution_count": 33,
   "id": "2f1c188b",
   "metadata": {},
   "outputs": [
    {
     "name": "stdout",
     "output_type": "stream",
     "text": [
      "[1.33171234]\n"
     ]
    }
   ],
   "source": [
    "print(regressor.predict([[2011]]))"
   ]
  },
  {
   "cell_type": "code",
   "execution_count": 34,
   "id": "a10c1ce8",
   "metadata": {},
   "outputs": [
    {
     "name": "stdout",
     "output_type": "stream",
     "text": [
      "[1.34058225]\n"
     ]
    }
   ],
   "source": [
    "print(regressor.predict([[2012]]))"
   ]
  },
  {
   "cell_type": "code",
   "execution_count": 35,
   "id": "f899c647",
   "metadata": {},
   "outputs": [
    {
     "name": "stdout",
     "output_type": "stream",
     "text": [
      "[1.34945215]\n"
     ]
    }
   ],
   "source": [
    "print(regressor.predict([[2013]]))"
   ]
  },
  {
   "cell_type": "markdown",
   "id": "827a8258",
   "metadata": {},
   "source": [
    "### "
   ]
  },
  {
   "cell_type": "markdown",
   "id": "9b578844",
   "metadata": {},
   "source": [
    "## Decision Tree"
   ]
  },
  {
   "cell_type": "markdown",
   "id": "e1912834",
   "metadata": {},
   "source": [
    "### Fitting Decision Tree Regression to the Dataset"
   ]
  },
  {
   "cell_type": "code",
   "execution_count": 16,
   "id": "f88369aa",
   "metadata": {},
   "outputs": [
    {
     "data": {
      "text/plain": [
       "DecisionTreeRegressor(random_state=0)"
      ]
     },
     "execution_count": 16,
     "metadata": {},
     "output_type": "execute_result"
    }
   ],
   "source": [
    "from sklearn.tree import DecisionTreeRegressor\n",
    "regressor = DecisionTreeRegressor(random_state = 0)\n",
    "regressor.fit(x_train, y_train)"
   ]
  },
  {
   "cell_type": "markdown",
   "id": "0578d60f",
   "metadata": {},
   "source": [
    "### Visualising the Decision Tree Regression Results (higher resolution)"
   ]
  },
  {
   "cell_type": "code",
   "execution_count": 17,
   "id": "77fe9484",
   "metadata": {},
   "outputs": [
    {
     "data": {
      "image/png": "[encoded data removed]",
      "text/plain": [
       "<Figure size 432x288 with 1 Axes>"
      ]
     },
     "metadata": {
      "needs_background": "light"
     },
     "output_type": "display_data"
    }
   ],
   "source": [
    "x_grid = np.arange(min(x), max(x), 0.01)\n",
    "x_grid = x_grid.reshape((len(x_grid), 1))\n",
    "plt.scatter(x, y, color = 'pink')\n",
    "plt.plot(x_grid, regressor.predict(x_grid), color ='purple')\n",
    "plt.title('CO2 Production (Decision Tree Regression)')\n",
    "plt.xlabel('Year')\n",
    "plt.ylabel('Per Capita')\n",
    "plt.show()"
   ]
  },
  {
   "cell_type": "markdown",
   "id": "e38be2bf",
   "metadata": {},
   "source": [
    "### Predicting a New Result"
   ]
  },
  {
   "cell_type": "code",
   "execution_count": 18,
   "id": "f2057ad2",
   "metadata": {},
   "outputs": [
    {
     "name": "stdout",
     "output_type": "stream",
     "text": [
      "[1.33]\n"
     ]
    }
   ],
   "source": [
    "print(regressor.predict([[2011]]))"
   ]
  },
  {
   "cell_type": "code",
   "execution_count": 19,
   "id": "56834ba0",
   "metadata": {},
   "outputs": [
    {
     "name": "stdout",
     "output_type": "stream",
     "text": [
      "[1.33]\n"
     ]
    }
   ],
   "source": [
    "print(regressor.predict([[2012]]))"
   ]
  },
  {
   "cell_type": "code",
   "execution_count": 20,
   "id": "007b6fc2",
   "metadata": {},
   "outputs": [
    {
     "name": "stdout",
     "output_type": "stream",
     "text": [
      "[1.33]\n"
     ]
    }
   ],
   "source": [
    "print(regressor.predict([[2013]]))"
   ]
  }
 ],
 "metadata": {
  "kernelspec": {
   "display_name": "Python 3 (ipykernel)",
   "language": "python",
   "name": "python3"
  },
  "language_info": {
   "codemirror_mode": {
    "name": "ipython",
    "version": 3
   },
   "file_extension": ".py",
   "mimetype": "text/x-python",
   "name": "python",
   "nbconvert_exporter": "python",
   "pygments_lexer": "ipython3",
   "version": "3.8.7"
  }
 },
 "nbformat": 4,
 "nbformat_minor": 5
}
